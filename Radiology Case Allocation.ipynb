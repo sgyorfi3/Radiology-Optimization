{
 "cells": [
  {
   "cell_type": "code",
   "execution_count": null,
   "metadata": {},
   "outputs": [
    {
     "name": "stdout",
     "output_type": "stream",
     "text": [
      "Changed value of parameter IntegralityFocus to 1\n",
      "   Prev: 0  Min: 0  Max: 1  Default: 0\n",
      "Gurobi Optimizer version 9.1.1 build v9.1.1rc0 (win64)\n",
      "Thread count: 36 physical cores, 72 logical processors, using up to 32 threads\n",
      "Optimize a model with 493 rows, 1007692 columns and 87735488 nonzeros\n",
      "Model fingerprint: 0x1dc6ce8d\n",
      "Variable types: 4 continuous, 1007688 integer (1007688 binary)\n",
      "Coefficient statistics:\n",
      "  Matrix range     [2e-04, 1e+00]\n",
      "  Objective range  [1e+00, 1e+00]\n",
      "  Bounds range     [1e+00, 1e+00]\n",
      "  RHS range        [1e-02, 4e+03]\n",
      "Presolve removed 0 rows and 0 columns (presolve time = 6s) ...\n"
     ]
    },
    {
     "ename": "KeyboardInterrupt",
     "evalue": "",
     "output_type": "error",
     "traceback": [
      "\u001b[1;31m---------------------------------------------------------------------------\u001b[0m",
      "\u001b[1;31mKeyboardInterrupt\u001b[0m                         Traceback (most recent call last)",
      "\u001b[1;32mc:\\program files\\python36\\lib\\site-packages\\ipykernel\\iostream.py\u001b[0m in \u001b[0;36mwrite\u001b[1;34m(self, string)\u001b[0m\n\u001b[0;32m    382\u001b[0m                 parent=self.parent_header, ident=self.topic)\n\u001b[0;32m    383\u001b[0m \u001b[1;33m\u001b[0m\u001b[0m\n\u001b[1;32m--> 384\u001b[1;33m     \u001b[1;32mdef\u001b[0m \u001b[0mwrite\u001b[0m\u001b[1;33m(\u001b[0m\u001b[0mself\u001b[0m\u001b[1;33m,\u001b[0m \u001b[0mstring\u001b[0m\u001b[1;33m)\u001b[0m\u001b[1;33m:\u001b[0m\u001b[1;33m\u001b[0m\u001b[0m\n\u001b[0m\u001b[0;32m    385\u001b[0m         \u001b[1;32mif\u001b[0m \u001b[0mself\u001b[0m\u001b[1;33m.\u001b[0m\u001b[0mecho\u001b[0m \u001b[1;32mis\u001b[0m \u001b[1;32mnot\u001b[0m \u001b[1;32mNone\u001b[0m\u001b[1;33m:\u001b[0m\u001b[1;33m\u001b[0m\u001b[0m\n\u001b[0;32m    386\u001b[0m             \u001b[1;32mtry\u001b[0m\u001b[1;33m:\u001b[0m\u001b[1;33m\u001b[0m\u001b[0m\n",
      "\u001b[1;31mKeyboardInterrupt\u001b[0m: "
     ]
    },
    {
     "name": "stderr",
     "output_type": "stream",
     "text": [
      "Exception ignored in: 'gurobipy.logcallbackstub'\n",
      "Traceback (most recent call last):\n",
      "  File \"c:\\program files\\python36\\lib\\site-packages\\ipykernel\\iostream.py\", line 384, in write\n",
      "    def write(self, string):\n",
      "KeyboardInterrupt\n"
     ]
    },
    {
     "name": "stdout",
     "output_type": "stream",
     "text": [
      "Presolve removed 239 rows and 1007685 columns (presolve time = 207s) ...\n",
      "Presolve removed 486 rows and 1007685 columns\n",
      "Presolve time: 207.57s\n",
      "Presolved: 7 rows, 7 columns, 16 nonzeros\n",
      "Variable types: 3 continuous, 4 integer (0 binary)\n",
      "\n",
      "Root simplex log...\n",
      "\n",
      "Iteration    Objective       Primal Inf.    Dual Inf.      Time\n",
      "       0    1.0470701e-03   1.235054e+02   0.000000e+00    220s\n",
      "       4    2.0941402e-03   0.000000e+00   0.000000e+00    220s\n",
      "\n",
      "Root relaxation: objective 2.094140e-03, 4 iterations, 0.00 seconds\n",
      "\n",
      "    Nodes    |    Current Node    |     Objective Bounds      |     Work\n",
      " Expl Unexpl |  Obj  Depth IntInf | Incumbent    BestBd   Gap | It/Node Time\n",
      "\n",
      "     0     0    0.00209    0    3          -    0.00209      -     -  219s\n",
      "H    0     0                       0.1245533    0.00209  98.3%     -  219s\n",
      "H    0     0                       0.0899712    0.00209  97.7%     -  219s\n",
      "     0     0    0.01767    0    4    0.08997    0.01767  80.4%     -  219s\n",
      "     0     0    0.01799    0    4    0.08997    0.01799  80.0%     -  219s\n",
      "H    0     0                       0.0758694    0.02633  65.3%     -  219s\n",
      "     0     0    0.03345    0    4    0.07587    0.03345  55.9%     -  219s\n",
      "H    0     0                       0.0713929    0.03345  53.1%     -  219s\n",
      "\n",
      "Cutting planes:\n",
      "  Gomory: 3\n",
      "  MIR: 1\n"
     ]
    }
   ],
   "source": [
    "import gurobipy as gp\n",
    "import pandas as pd\n",
    "\n",
    "# Data Manipulation\n",
    "file = \"fake_claims_data.csv\"\n",
    "csv_data = pd.read_csv(file, header = None)\n",
    "\n",
    "\n",
    "# Parameters\n",
    "\n",
    "a = 0.01 # Percentage of total radiologists in Sole practices\n",
    "b = 0.10 # Percentage of total radiologists in Small practices\n",
    "c = 0.51 # Percentage of total radiologists in Medium practices\n",
    "d = 0.38 # Percentage of total radiologists in Large practices\n",
    "\n",
    "n = 46 # Number of Sole practices \n",
    "m = 108 # Number of Small practices\n",
    "o = 79 # Number of Medium practices\n",
    "p = 9 # Number of Large practices\n",
    "\n",
    "s = n+m+o+p # Number of Total practices\n",
    "r = len(csv_data) # Number of Total Cases\n",
    "\n",
    "# Decision Variables\n",
    "\n",
    "model = gp.Model('Radiology Case Allocation') # Creating Model Instance \n",
    "model.Params.IntegralityFocus = 1\n",
    "\n",
    "\n",
    "j_index = [j for j in range(1,s+1)]\n",
    "n_index = [n for n in range(1,n+1)]\n",
    "m_index = [m for m in range(n+1,n+m+1)]\n",
    "o_index = [o for o in range(n+m+1,s-p+1)]\n",
    "p_index = [p for p in range(s-p+1,s+1)]\n",
    "\n",
    "ijk_index = [] # Creating indices for Variable Xijk\n",
    "for case in range(1,r+1):\n",
    "    for prac in range(1,s+1):\n",
    "        if 1 <= prac <= n:\n",
    "            ijk_index.append((case,prac,1))\n",
    "        if n < prac <= n+m:\n",
    "            ijk_index.append((case,prac,2))\n",
    "        if n+m < prac <= n+m+o:\n",
    "            ijk_index.append((case,prac,3))\n",
    "        if n+m+o < prac:\n",
    "            ijk_index.append((case,prac,4))\n",
    "\n",
    "x = model.addVars(ijk_index, name=\"x_\",vtype=gp.GRB.BINARY) \n",
    "z1 = model.addVar(name=\"z1\", vtype= gp.GRB.CONTINUOUS)\n",
    "z2 = model.addVar(name=\"z2\", vtype= gp.GRB.CONTINUOUS)\n",
    "z3 = model.addVar(name=\"z3\", vtype= gp.GRB.CONTINUOUS)\n",
    "z4 = model.addVar(name=\"z4\", vtype= gp.GRB.CONTINUOUS)\n",
    "\n",
    "\n",
    "# Objective Function\n",
    "model.setObjective(z1+z2+z3+z4, gp.GRB.MINIMIZE)\n",
    "\n",
    "# Constraints\n",
    "\n",
    "# 1st Constraint: 'Each practice has at least 1 case'\n",
    "model.addConstrs((x.sum('*',j) >= 1 for j in j_index),name=\"1\")\n",
    "\n",
    "# 2nd Constraint: 'Every practice in the 4-bin practice category version (i.e. sole, small, medium, and large)\n",
    "# has the same number of cases in each category'\n",
    "model.addConstrs((0 == x.sum('*','*',1)/n - x.sum('*',j,1)  for j in n_index),name=\"2a\")\n",
    "model.addConstrs((0 == x.sum('*','*',2)/m - x.sum('*',j,2)  for j in m_index),name=\"2b\")\n",
    "model.addConstrs((0 == x.sum('*','*',3)/o - x.sum('*',j,3)  for j in o_index),name=\"2c\")\n",
    "model.addConstrs((0 == x.sum('*','*',4)/p - x.sum('*',j,4) for j in p_index),name=\"2d\")\n",
    "\n",
    "# 3rd Constraint: 'The sum of cases in each 4-bin category (i.e. sole, small, medium, and large)\n",
    "# matches the distribution of the “total % of radiologists” in the 4-bin categories'\n",
    "model.addConstr((z1 >= (x.sum('*','*',1)/r) - a),name=\"3a\")\n",
    "model.addConstr((z1 >= (-x.sum('*','*',1)/r) + a),name=\"3b\")\n",
    "model.addConstr((z2 >= (x.sum('*','*',2)/r) - b),name=\"3c\")\n",
    "model.addConstr((z2 >= (-x.sum('*','*',2)/r) + b),name=\"3d\")\n",
    "model.addConstr((z3 >= (x.sum('*','*',3)/r) - c),name=\"3e\")\n",
    "model.addConstr((z3 >= (-x.sum('*','*',3)/r) + c),name=\"3f\")\n",
    "model.addConstr((z4 >= (x.sum('*','*',4)/r) - d),name=\"3g\")\n",
    "model.addConstr((z4 >= (-x.sum('*','*',4)/r) + d),name=\"3h\")\n",
    "\n",
    "# 4th Constraint: 'Every Case is Allocated'\n",
    "model.addConstr((x.sum('*','*','*') == r), name=\"4\")\n",
    "\n",
    "# Run Model\n",
    "model.optimize()\n",
    "\n",
    "# Case Allocation\n",
    "Allocated_Cases = [var.x for var in x.values()]\n",
    "\n"
   ]
  },
  {
   "cell_type": "code",
   "execution_count": 2,
   "metadata": {},
   "outputs": [
    {
     "name": "stdout",
     "output_type": "stream",
     "text": [
      "4078\n"
     ]
    }
   ],
   "source": [
    "# This piece of code is checking to make sure all cases were allocated.\n",
    "\n",
    "Variable_Values = list(zip(ijk_index,Allocated_Cases))\n",
    "Actual_Values = []\n",
    "for items in Variable_Values:\n",
    "    if items[1] == 1:\n",
    "        Actual_Values.append(items)\n",
    "print(len(Actual_Values))"
   ]
  },
  {
   "cell_type": "code",
   "execution_count": 11,
   "metadata": {},
   "outputs": [],
   "source": [
    "# This piece of code is creating the lists of four Radiology practice groups\n",
    "\n",
    "Practice_Case = []\n",
    "for num in range(1,s+1):\n",
    "    case_count = 0\n",
    "    practice_type = 0\n",
    "    for item in Actual_Values:\n",
    "        if item[0][1] == num:\n",
    "            case_count += 1\n",
    "            practice_type = item[0][2]\n",
    "    Practice_Case.append((num,case_count,practice_type))  \n"
   ]
  },
  {
   "cell_type": "code",
   "execution_count": 12,
   "metadata": {},
   "outputs": [
    {
     "name": "stdout",
     "output_type": "stream",
     "text": [
      "0.022094140249759846\n",
      "0.1037463976945245\n",
      "0.4743035542747358\n",
      "0.39985590778097985\n"
     ]
    }
   ],
   "source": [
    "# This piece of code is checking to ensure that the four Radiology practice groups have the correct percentages\n",
    "# of total cases\n",
    "\n",
    "solo = 0\n",
    "small = 0\n",
    "medium = 0\n",
    "large = 0\n",
    "\n",
    "for items in Practice_Case:\n",
    "    if items[2] == 1:\n",
    "        solo += items[1]\n",
    "    elif items[2] == 2:\n",
    "        small += items[1]\n",
    "    elif items[2] == 3:\n",
    "        medium += items[1]\n",
    "    elif items[2] == 4:\n",
    "        large += items[1]\n",
    "print(solo/4164)\n",
    "print(small/4164)\n",
    "print(medium/4164)\n",
    "print(large/4164)"
   ]
  },
  {
   "cell_type": "code",
   "execution_count": 13,
   "metadata": {},
   "outputs": [
    {
     "name": "stdout",
     "output_type": "stream",
     "text": [
      "[2, 2, 2, 2, 2, 2, 2, 2, 2, 2, 2, 2, 2, 2, 2, 2, 2, 2, 2, 2, 2, 2, 2, 2, 2, 2, 2, 2, 2, 2, 2, 2, 2, 2, 2, 2, 2, 2, 2, 2, 2, 2, 2, 2, 2, 2] [4, 4, 4, 4, 4, 4, 4, 4, 4, 4, 4, 4, 4, 4, 4, 4, 4, 4, 4, 4, 4, 4, 4, 4, 4, 4, 4, 4, 4, 4, 4, 4, 4, 4, 4, 4, 4, 4, 4, 4, 4, 4, 4, 4, 4, 4, 4, 4, 4, 4, 4, 4, 4, 4, 4, 4, 4, 4, 4, 4, 4, 4, 4, 4, 4, 4, 4, 4, 4, 4, 4, 4, 4, 4, 4, 4, 4, 4, 4, 4, 4, 4, 4, 4, 4, 4, 4, 4, 4, 4, 4, 4, 4, 4, 4, 4, 4, 4, 4, 4, 4, 4, 4, 4, 4, 4, 4, 4] [25, 25, 25, 25, 25, 25, 25, 25, 25, 25, 25, 25, 25, 25, 25, 25, 25, 25, 25, 25, 25, 25, 25, 25, 25, 25, 25, 25, 25, 25, 25, 25, 25, 25, 25, 25, 25, 25, 25, 25, 25, 25, 25, 25, 25, 25, 25, 25, 25, 25, 25, 25, 25, 25, 25, 25, 25, 25, 25, 25, 25, 25, 25, 25, 25, 25, 25, 25, 25, 25, 25, 25, 25, 25, 25, 25, 25, 25, 25] [185, 185, 185, 185, 185, 185, 185, 185, 185]\n"
     ]
    }
   ],
   "source": [
    "# This piece of code is verifying that practices in each group are provided the same number of cases\n",
    "\n",
    "solo_practice = []\n",
    "small_practice = []\n",
    "medium_practice = []\n",
    "large_practice = []\n",
    "\n",
    "for items in Practice_Case:\n",
    "    if items[2] == 1:\n",
    "        solo_practice.append(items[1])\n",
    "    elif items[2] == 2:\n",
    "        small_practice.append(items[1])\n",
    "    elif items[2] == 3:\n",
    "        medium_practice.append(items[1])\n",
    "    elif items[2] == 4:\n",
    "        large_practice.append(items[1])\n",
    "\n",
    "print(solo_practice,small_practice,medium_practice,large_practice)\n",
    "    "
   ]
  },
  {
   "cell_type": "code",
   "execution_count": null,
   "metadata": {},
   "outputs": [],
   "source": []
  }
 ],
 "metadata": {
  "kernelspec": {
   "display_name": "Python 3",
   "language": "python",
   "name": "python3"
  },
  "language_info": {
   "codemirror_mode": {
    "name": "ipython",
    "version": 3
   },
   "file_extension": ".py",
   "mimetype": "text/x-python",
   "name": "python",
   "nbconvert_exporter": "python",
   "pygments_lexer": "ipython3",
   "version": "3.6.2"
  }
 },
 "nbformat": 4,
 "nbformat_minor": 2
}
